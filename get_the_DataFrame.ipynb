{
 "cells": [
  {
   "cell_type": "code",
   "execution_count": 1,
   "metadata": {},
   "outputs": [],
   "source": [
    "import tweepy\n",
    "from tweepy import Stream\n",
    "from tweepy import StreamListener\n",
    "from textblob import TextBlob\n",
    "import json\n",
    "import re\n",
    "import csv \n",
    "\n",
    "\n",
    "from tweepy.streaming import StreamListener\n",
    "from tweepy import OAuthHandler\n",
    "import twitter"
   ]
  },
  {
   "cell_type": "code",
   "execution_count": 2,
   "metadata": {},
   "outputs": [],
   "source": [
    "consumer_key   = \"2F3pha51QhZAm0m4ZoR1ngGEU\"\n",
    "consumer_secret = \"NzQvzcg3JRld8mVPrwoXKQSheVKcFEDLRsxE9iucuvsLPjjf2t\"\n",
    "access_token   = \"1348855165453963269-PCIyegXo67hykxWioWXOsVoPAmEDXG\" \n",
    "access_token_secret  = \"1ermEDHlQEeFvr2LIGzQGPPbQflSMB2kgyakyN8llgWz5\""
   ]
  },
  {
   "cell_type": "code",
   "execution_count": 3,
   "metadata": {},
   "outputs": [],
   "source": [
    "auth = tweepy.OAuthHandler(consumer_key,consumer_secret)\n",
    "auth.set_access_token(access_token,access_token_secret)\n",
    "    "
   ]
  },
  {
   "cell_type": "code",
   "execution_count": 5,
   "metadata": {},
   "outputs": [],
   "source": [
    "api = tweepy.API(auth,wait_on_rate_limit = True)"
   ]
  },
  {
   "cell_type": "code",
   "execution_count": 6,
   "metadata": {},
   "outputs": [],
   "source": [
    "post = api.user_timeline(screen_name = 'BillGates', count = 100, lang='en', twwet_mode = 'extended')"
   ]
  },
  {
   "cell_type": "code",
   "execution_count": 20,
   "metadata": {},
   "outputs": [],
   "source": [
    "import json"
   ]
  },
  {
   "cell_type": "code",
   "execution_count": 10,
   "metadata": {
    "scrolled": true
   },
   "outputs": [
    {
     "name": "stdout",
     "output_type": "stream",
     "text": [
      "It’s great to see India’s leadership in scientific innovation and vaccine manufacturing capability as the world wor… https://t.co/XR68nmXE3g\n",
      "\n",
      "RT @lastmilehealth: The best emergency system is a strong primary health system—powered by community and frontline health workers. Now is t…\n",
      "\n",
      "What does Rashida Jones have on her shopping list? That’s just one of the many questions that didn’t make it into o… https://t.co/12zZthysds\n",
      "\n",
      "2021 will be better than 2020. Here’s why: https://t.co/mYbpl5wwF1\n",
      "\n",
      "Standing up for science has never been more important. Congratulations to Dr. Anthony Fauci and Dr. Salim Abdool Ka… https://t.co/Hz9CNhMWJg\n",
      "\n"
     ]
    }
   ],
   "source": [
    "for tweet in post[0:5]:\n",
    "    print(tweet.text + '\\n')"
   ]
  },
  {
   "cell_type": "code",
   "execution_count": 11,
   "metadata": {},
   "outputs": [],
   "source": [
    "import pandas as pd"
   ]
  },
  {
   "cell_type": "code",
   "execution_count": 13,
   "metadata": {},
   "outputs": [
    {
     "data": {
      "text/html": [
       "<div>\n",
       "<style scoped>\n",
       "    .dataframe tbody tr th:only-of-type {\n",
       "        vertical-align: middle;\n",
       "    }\n",
       "\n",
       "    .dataframe tbody tr th {\n",
       "        vertical-align: top;\n",
       "    }\n",
       "\n",
       "    .dataframe thead th {\n",
       "        text-align: right;\n",
       "    }\n",
       "</style>\n",
       "<table border=\"1\" class=\"dataframe\">\n",
       "  <thead>\n",
       "    <tr style=\"text-align: right;\">\n",
       "      <th></th>\n",
       "      <th>twitts</th>\n",
       "    </tr>\n",
       "  </thead>\n",
       "  <tbody>\n",
       "    <tr>\n",
       "      <th>0</th>\n",
       "      <td>It’s great to see India’s leadership in scient...</td>\n",
       "    </tr>\n",
       "    <tr>\n",
       "      <th>1</th>\n",
       "      <td>RT @lastmilehealth: The best emergency system ...</td>\n",
       "    </tr>\n",
       "    <tr>\n",
       "      <th>2</th>\n",
       "      <td>What does Rashida Jones have on her shopping l...</td>\n",
       "    </tr>\n",
       "    <tr>\n",
       "      <th>3</th>\n",
       "      <td>2021 will be better than 2020. Here’s why: htt...</td>\n",
       "    </tr>\n",
       "    <tr>\n",
       "      <th>4</th>\n",
       "      <td>Standing up for science has never been more im...</td>\n",
       "    </tr>\n",
       "  </tbody>\n",
       "</table>\n",
       "</div>"
      ],
      "text/plain": [
       "                                              twitts\n",
       "0  It’s great to see India’s leadership in scient...\n",
       "1  RT @lastmilehealth: The best emergency system ...\n",
       "2  What does Rashida Jones have on her shopping l...\n",
       "3  2021 will be better than 2020. Here’s why: htt...\n",
       "4  Standing up for science has never been more im..."
      ]
     },
     "execution_count": 13,
     "metadata": {},
     "output_type": "execute_result"
    }
   ],
   "source": [
    "df = pd.DataFrame([tweet.text for tweet in post], columns = ['twitts'])\n",
    "df.head()"
   ]
  }
 ],
 "metadata": {
  "kernelspec": {
   "display_name": "Python 3",
   "language": "python",
   "name": "python3"
  },
  "language_info": {
   "codemirror_mode": {
    "name": "ipython",
    "version": 3
   },
   "file_extension": ".py",
   "mimetype": "text/x-python",
   "name": "python",
   "nbconvert_exporter": "python",
   "pygments_lexer": "ipython3",
   "version": "3.6.12"
  }
 },
 "nbformat": 4,
 "nbformat_minor": 4
}
