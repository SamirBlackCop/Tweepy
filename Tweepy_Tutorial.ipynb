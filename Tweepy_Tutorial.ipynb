{
 "cells": [
  {
   "cell_type": "markdown",
   "metadata": {},
   "source": [
    "## AUTHINTICATION"
   ]
  },
  {
   "cell_type": "code",
   "execution_count": 20,
   "metadata": {},
   "outputs": [],
   "source": [
    "import tweepy\n",
    "import webbrowser\n",
    "import time\n",
    "import pandas as pd"
   ]
  },
  {
   "cell_type": "code",
   "execution_count": 2,
   "metadata": {},
   "outputs": [],
   "source": [
    "consumer_key   = \"2F3pha51QhZAm0m4ZoR1ngGEU\"\n",
    "consumer_secret = \"NzQvzcg3JRld8mVPrwoXKQSheVKcFEDLRsxE9iucuvsLPjjf2t\"\n",
    "access_token   = \"1348855165453963269-PCIyegXo67hykxWioWXOsVoPAmEDXG\" \n",
    "access_token_secret  = \"1ermEDHlQEeFvr2LIGzQGPPbQflSMB2kgyakyN8llgWz5\""
   ]
  },
  {
   "cell_type": "code",
   "execution_count": 3,
   "metadata": {},
   "outputs": [],
   "source": [
    "callback_url = 'oob'"
   ]
  },
  {
   "cell_type": "code",
   "execution_count": 4,
   "metadata": {},
   "outputs": [
    {
     "name": "stdout",
     "output_type": "stream",
     "text": [
      "https://api.twitter.com/oauth/authorize?oauth_token=mWiJlAAAAAABLmT0AAABdvwOpL8\n"
     ]
    }
   ],
   "source": [
    "auth = tweepy.OAuthHandler(consumer_key, consumer_secret, callback_url)\n",
    "redirect_url = auth.get_authorization_url()\n",
    "print(redirect_url)"
   ]
  },
  {
   "cell_type": "code",
   "execution_count": 5,
   "metadata": {},
   "outputs": [
    {
     "data": {
      "text/plain": [
       "True"
      ]
     },
     "execution_count": 5,
     "metadata": {},
     "output_type": "execute_result"
    }
   ],
   "source": [
    "webbrowser.open(redirect_url)"
   ]
  },
  {
   "cell_type": "code",
   "execution_count": 6,
   "metadata": {},
   "outputs": [
    {
     "name": "stdout",
     "output_type": "stream",
     "text": [
      "What's the Pin Value? 0297628\n"
     ]
    }
   ],
   "source": [
    "user_pint_input = input(\"What's the Pin Value? \")"
   ]
  },
  {
   "cell_type": "code",
   "execution_count": 7,
   "metadata": {},
   "outputs": [
    {
     "data": {
      "text/plain": [
       "('1348855165453963269-PCIyegXo67hykxWioWXOsVoPAmEDXG',\n",
       " '1ermEDHlQEeFvr2LIGzQGPPbQflSMB2kgyakyN8llgWz5')"
      ]
     },
     "execution_count": 7,
     "metadata": {},
     "output_type": "execute_result"
    }
   ],
   "source": [
    "auth.get_access_token(user_pint_input)"
   ]
  },
  {
   "cell_type": "code",
   "execution_count": 9,
   "metadata": {},
   "outputs": [],
   "source": [
    "api = tweepy.API(auth)"
   ]
  },
  {
   "cell_type": "code",
   "execution_count": 12,
   "metadata": {},
   "outputs": [
    {
     "name": "stdout",
     "output_type": "stream",
     "text": [
      "SamirDa40163169\n"
     ]
    }
   ],
   "source": [
    "me = api.me()\n",
    "print(me.screen_name)"
   ]
  },
  {
   "cell_type": "markdown",
   "metadata": {},
   "source": [
    "## UPDATE STATUS"
   ]
  },
  {
   "cell_type": "markdown",
   "metadata": {},
   "source": [
    "WRITE TWEET "
   ]
  },
  {
   "cell_type": "raw",
   "metadata": {},
   "source": [
    "#new_status = api.update_status(\"Hello World \")\n",
    "this will text litteraly text from your account"
   ]
  },
  {
   "cell_type": "raw",
   "metadata": {},
   "source": [
    "#new_status.destroy()\n",
    "this will destroy your message"
   ]
  },
  {
   "cell_type": "raw",
   "metadata": {},
   "source": [
    "To look what are the available attribute in new_status use\n",
    "dir(new_status)"
   ]
  },
  {
   "cell_type": "code",
   "execution_count": 16,
   "metadata": {},
   "outputs": [
    {
     "data": {
      "text/plain": [
       "['__class__',\n",
       " '__delattr__',\n",
       " '__dict__',\n",
       " '__dir__',\n",
       " '__doc__',\n",
       " '__eq__',\n",
       " '__format__',\n",
       " '__ge__',\n",
       " '__getattribute__',\n",
       " '__gt__',\n",
       " '__hash__',\n",
       " '__init__',\n",
       " '__init_subclass__',\n",
       " '__le__',\n",
       " '__lt__',\n",
       " '__module__',\n",
       " '__ne__',\n",
       " '__new__',\n",
       " '__reduce__',\n",
       " '__reduce_ex__',\n",
       " '__repr__',\n",
       " '__setattr__',\n",
       " '__sizeof__',\n",
       " '__str__',\n",
       " '__subclasshook__',\n",
       " '__weakref__',\n",
       " '_add_list_members',\n",
       " '_lookup_friendships',\n",
       " '_pack_image',\n",
       " '_remove_list_members',\n",
       " '_send_direct_message',\n",
       " 'add_list_member',\n",
       " 'add_list_members',\n",
       " 'api_root',\n",
       " 'auth',\n",
       " 'blocks',\n",
       " 'blocks_ids',\n",
       " 'cache',\n",
       " 'cached_result',\n",
       " 'compression',\n",
       " 'configuration',\n",
       " 'create_block',\n",
       " 'create_favorite',\n",
       " 'create_friendship',\n",
       " 'create_list',\n",
       " 'create_media_metadata',\n",
       " 'create_mute',\n",
       " 'create_saved_search',\n",
       " 'destroy_block',\n",
       " 'destroy_direct_message',\n",
       " 'destroy_favorite',\n",
       " 'destroy_friendship',\n",
       " 'destroy_list',\n",
       " 'destroy_mute',\n",
       " 'destroy_saved_search',\n",
       " 'destroy_status',\n",
       " 'favorites',\n",
       " 'followers',\n",
       " 'followers_ids',\n",
       " 'friends',\n",
       " 'friends_ids',\n",
       " 'friendships_incoming',\n",
       " 'friendships_outgoing',\n",
       " 'geo_id',\n",
       " 'geo_search',\n",
       " 'geo_similar_places',\n",
       " 'get_direct_message',\n",
       " 'get_list',\n",
       " 'get_oembed',\n",
       " 'get_saved_search',\n",
       " 'get_settings',\n",
       " 'get_status',\n",
       " 'get_user',\n",
       " 'home_timeline',\n",
       " 'host',\n",
       " 'last_response',\n",
       " 'list_direct_messages',\n",
       " 'list_members',\n",
       " 'list_subscribers',\n",
       " 'list_timeline',\n",
       " 'lists_all',\n",
       " 'lists_memberships',\n",
       " 'lists_subscriptions',\n",
       " 'lookup_friendships',\n",
       " 'lookup_users',\n",
       " 'me',\n",
       " 'media_upload',\n",
       " 'mentions_timeline',\n",
       " 'mutes',\n",
       " 'mutes_ids',\n",
       " 'parser',\n",
       " 'proxy',\n",
       " 'rate_limit_status',\n",
       " 'related_results',\n",
       " 'remove_list_member',\n",
       " 'remove_list_members',\n",
       " 'report_spam',\n",
       " 'retry_count',\n",
       " 'retry_delay',\n",
       " 'retry_errors',\n",
       " 'retweet',\n",
       " 'retweeters',\n",
       " 'retweets',\n",
       " 'retweets_of_me',\n",
       " 'reverse_geocode',\n",
       " 'saved_searches',\n",
       " 'search',\n",
       " 'search_30_day',\n",
       " 'search_full_archive',\n",
       " 'search_host',\n",
       " 'search_root',\n",
       " 'search_users',\n",
       " 'send_direct_message',\n",
       " 'set_settings',\n",
       " 'show_friendship',\n",
       " 'show_list_member',\n",
       " 'show_list_subscriber',\n",
       " 'statuses_lookup',\n",
       " 'subscribe_list',\n",
       " 'supported_languages',\n",
       " 'timeout',\n",
       " 'trends_available',\n",
       " 'trends_closest',\n",
       " 'trends_place',\n",
       " 'unretweet',\n",
       " 'unsubscribe_list',\n",
       " 'update_list',\n",
       " 'update_profile',\n",
       " 'update_profile_banner',\n",
       " 'update_profile_image',\n",
       " 'update_status',\n",
       " 'update_with_media',\n",
       " 'upload_host',\n",
       " 'upload_root',\n",
       " 'user_timeline',\n",
       " 'verify_credentials',\n",
       " 'wait_on_rate_limit',\n",
       " 'wait_on_rate_limit_notify']"
      ]
     },
     "execution_count": 16,
     "metadata": {},
     "output_type": "execute_result"
    }
   ],
   "source": [
    "dir(api)\n",
    "# available attribute to the main api"
   ]
  },
  {
   "cell_type": "code",
   "execution_count": 17,
   "metadata": {},
   "outputs": [],
   "source": [
    "#img_obj = api.media_upload('path of your image you want yo upload')"
   ]
  },
  {
   "cell_type": "raw",
   "metadata": {},
   "source": [
    "#dir(img_obj)\n",
    "will show avialable attribute"
   ]
  },
  {
   "cell_type": "raw",
   "metadata": {},
   "source": [
    "#Text with word and img\n",
    "new_status = api.update_status(\"Hello World\", media_id=[img_obj.media_id_string])"
   ]
  },
  {
   "cell_type": "markdown",
   "metadata": {},
   "source": [
    "## User TimeLine"
   ]
  },
  {
   "cell_type": "code",
   "execution_count": 18,
   "metadata": {},
   "outputs": [],
   "source": [
    "my_timeline = api.home_timeline()"
   ]
  },
  {
   "cell_type": "code",
   "execution_count": 19,
   "metadata": {},
   "outputs": [
    {
     "name": "stdout",
     "output_type": "stream",
     "text": [
      "Jumping into a wormhole might cause it to contract and disintegrate https://t.co/lTr6tclJ34 https://t.co/OIJ61zA89Q\n",
      "#DonaldTrump https://t.co/ov12tV1ak9\n",
      "RT @aaipblairport: VSI Airport gates were thrown wide open for transport of COVISHIELD today through G81305.1 vaccine box of 32 kgs transpo…\n",
      "#LIVE: एवरेस्ट छोड़ो सिकदर बोलो\n",
      "\n",
      "@AmanChopra_\n",
      "  #IndiaForMtSikdar https://t.co/x1J8D7S8Z3\n",
      "कृषि कानून: कमेटी के सदस्यों पर कांग्रेस प्रवक्ता @GouravVallabh की दो टूक \n",
      "वीडियो: https://t.co/p7rx547FNb\n",
      "#ATCard… https://t.co/NNzye9RwwK\n",
      "Deep breaths, everyone. Take some time with this Yosemite National Park footage from a recent spring. #CalmingNature https://t.co/bOTLVwUuyY\n",
      "RT @ImphalAPD: Indian vaccines have saved lives of millions, millions got the chance of a longer healthier life, a greater chance to learn,…\n",
      "Kerala: The first batch of COVID19 vaccine arrives at the international airport in Thiruvananthapuram https://t.co/ipaPUBTI93\n",
      "RT @ImphalAPD: सर्वे भवन्तु सुखिनः सर्वे सन्तु निरामयाः।\n",
      "सर्वे भद्राणि पश्यन्तु मा कश्चिद्दुःखभाग् भवेत्।।\n",
      "\n",
      "COVID-19 Vaccine was received b…\n",
      "Trump impeachment: House debates charge of 'incitement of insurrection' – live https://t.co/XlMo1wvx33\n",
      "https://t.co/4NsespkeKD\n",
      "21' GOAL | #OFCCFC \n",
      "\n",
      "@AnirudhThapa wins a penalty for @ChennaiyinFC and Esmael Goncalves doubles the lead!\n",
      "\n",
      "OFC 0-2… https://t.co/9ox9zps8kW\n",
      "Acting U.S. attorney general warns insurrectionists against further attacks https://t.co/GrwJPRak6d https://t.co/mbXHtmA8se\n",
      "#NEWSUPDATE | CBI registers bank fraud case of over Rs 200 crore against Bengaluru-based Steel Hypermart India Priv… https://t.co/s7Xd6R7Jgg\n",
      "As cases of COVID-19 surge daily, surpassing levels seen in the first wave of the pandemic, South African restauran… https://t.co/PGAml6lgmJ\n",
      "\"किसान आंदोलन में खालिस्तानी एंट्री मंज़ूर नही\" ये कहना है मनजिंदर सिंह सिरसा (@mssirsa) का। आंदोलन का झंडा सिर्फ… https://t.co/TwxiVyQQnp\n",
      "#JustIn | US House of Representatives opens #DonaldTrump impeachment session (News Agency AFP)\n",
      "#COVIDVaccination | All vaccine beneficiaries in Maharashtra will be given a vaccination certificate with unique QR… https://t.co/RBDcfep2Wi\n",
      "Rashford takes on the government – again: Politics Weekly podcast https://t.co/0sbC1wtKvk\n"
     ]
    }
   ],
   "source": [
    "for status in my_timeline:\n",
    "    print(status.text)\n",
    "    "
   ]
  },
  {
   "cell_type": "code",
   "execution_count": 34,
   "metadata": {},
   "outputs": [],
   "source": [
    "#Create columns name for DataFrame\n",
    "columns = set()\n",
    "allowed_data_type = [str, int]\n",
    "tweets_data = []\n",
    "\n",
    "\n",
    "for status in my_timeline:\n",
    "    #print(vars(status))\n",
    "    status_dict = dict(vars(status)) \n",
    "    #vars gives many information in form of dict so we can make these features as columns of dataFrame\n",
    "    keys = status_dict.keys()\n",
    "    single_tweet_data = {}\n",
    "    \n",
    "    \n",
    "    for k in keys:\n",
    "        try:\n",
    "            value_type = type(status_dict[k])\n",
    "        except:\n",
    "            value_type = None\n",
    "            \n",
    "            \n",
    "        if value_type != None:\n",
    "            if value_type in allowed_data_type:\n",
    "                single_tweet_data[k] = status_dict[k]\n",
    "                columns.add(k)\n",
    "    \n",
    "    tweets_data.append(single_tweet_data)    \n",
    "        \n",
    "header_cols = list(columns)"
   ]
  },
  {
   "cell_type": "code",
   "execution_count": 35,
   "metadata": {},
   "outputs": [
    {
     "data": {
      "text/plain": [
       "[{'id': 1349362434772000770,\n",
       "  'id_str': '1349362434772000770',\n",
       "  'text': 'Jumping into a wormhole might cause it to contract and disintegrate https://t.co/lTr6tclJ34 https://t.co/OIJ61zA89Q',\n",
       "  'source': 'Echobox',\n",
       "  'source_url': 'https://www.echobox.com',\n",
       "  'retweet_count': 2,\n",
       "  'favorite_count': 0,\n",
       "  'lang': 'en'},\n",
       " {'id': 1349362395999715329,\n",
       "  'id_str': '1349362395999715329',\n",
       "  'text': '#DonaldTrump https://t.co/ov12tV1ak9',\n",
       "  'source': 'Twitter Web App',\n",
       "  'source_url': 'https://mobile.twitter.com',\n",
       "  'retweet_count': 0,\n",
       "  'favorite_count': 2,\n",
       "  'lang': 'und'},\n",
       " {'id': 1349362389792092163,\n",
       "  'id_str': '1349362389792092163',\n",
       "  'text': 'RT @aaipblairport: VSI Airport gates were thrown wide open for transport of COVISHIELD today through G81305.1 vaccine box of 32 kgs transpo…',\n",
       "  'source': 'Twitter for Android',\n",
       "  'source_url': 'http://twitter.com/download/android',\n",
       "  'retweet_count': 8,\n",
       "  'favorite_count': 0,\n",
       "  'lang': 'en'},\n",
       " {'id': 1349362370070548480,\n",
       "  'id_str': '1349362370070548480',\n",
       "  'text': '#LIVE: एवरेस्ट छोड़ो सिकदर बोलो\\n\\n@AmanChopra_\\n  #IndiaForMtSikdar https://t.co/x1J8D7S8Z3',\n",
       "  'source': 'Twitter Media Studio',\n",
       "  'source_url': 'https://studio.twitter.com',\n",
       "  'retweet_count': 1,\n",
       "  'favorite_count': 9,\n",
       "  'lang': 'hi'},\n",
       " {'id': 1349362354534838278,\n",
       "  'id_str': '1349362354534838278',\n",
       "  'text': 'कृषि कानून: कमेटी के सदस्यों पर कांग्रेस प्रवक्ता @GouravVallabh की दो टूक \\nवीडियो: https://t.co/p7rx547FNb\\n#ATCard… https://t.co/NNzye9RwwK',\n",
       "  'source': 'Twitter Web App',\n",
       "  'source_url': 'https://mobile.twitter.com',\n",
       "  'retweet_count': 0,\n",
       "  'favorite_count': 4,\n",
       "  'lang': 'hi'},\n",
       " {'id': 1349362224989667328,\n",
       "  'id_str': '1349362224989667328',\n",
       "  'text': 'Deep breaths, everyone. Take some time with this Yosemite National Park footage from a recent spring. #CalmingNature https://t.co/bOTLVwUuyY',\n",
       "  'source': 'Twitter Web App',\n",
       "  'source_url': 'https://mobile.twitter.com',\n",
       "  'retweet_count': 4,\n",
       "  'favorite_count': 7,\n",
       "  'lang': 'en'},\n",
       " {'id': 1349362199471378436,\n",
       "  'id_str': '1349362199471378436',\n",
       "  'text': 'RT @ImphalAPD: Indian vaccines have saved lives of millions, millions got the chance of a longer healthier life, a greater chance to learn,…',\n",
       "  'source': 'Twitter for Android',\n",
       "  'source_url': 'http://twitter.com/download/android',\n",
       "  'retweet_count': 6,\n",
       "  'favorite_count': 0,\n",
       "  'lang': 'en'},\n",
       " {'id': 1349362134895919106,\n",
       "  'id_str': '1349362134895919106',\n",
       "  'text': 'Kerala: The first batch of COVID19 vaccine arrives at the international airport in Thiruvananthapuram https://t.co/ipaPUBTI93',\n",
       "  'source': 'Twitter Web App',\n",
       "  'source_url': 'https://mobile.twitter.com',\n",
       "  'retweet_count': 2,\n",
       "  'favorite_count': 81,\n",
       "  'lang': 'en'},\n",
       " {'id': 1349362128621195264,\n",
       "  'id_str': '1349362128621195264',\n",
       "  'text': 'RT @ImphalAPD: सर्वे भवन्तु सुखिनः सर्वे सन्तु निरामयाः।\\nसर्वे भद्राणि पश्यन्तु मा कश्चिद्दुःखभाग् भवेत्।।\\n\\nCOVID-19 Vaccine was received b…',\n",
       "  'source': 'Twitter for Android',\n",
       "  'source_url': 'http://twitter.com/download/android',\n",
       "  'retweet_count': 4,\n",
       "  'favorite_count': 0,\n",
       "  'lang': 'und'},\n",
       " {'id': 1349362031959412736,\n",
       "  'id_str': '1349362031959412736',\n",
       "  'text': \"Trump impeachment: House debates charge of 'incitement of insurrection' – live https://t.co/XlMo1wvx33\",\n",
       "  'source': 'Echobox',\n",
       "  'source_url': 'https://www.echobox.com',\n",
       "  'retweet_count': 5,\n",
       "  'favorite_count': 17,\n",
       "  'lang': 'en'},\n",
       " {'id': 1349362016327237632,\n",
       "  'id_str': '1349362016327237632',\n",
       "  'text': 'https://t.co/4NsespkeKD',\n",
       "  'source': 'Forbes Botstream',\n",
       "  'source_url': 'http://www.forbes.com',\n",
       "  'retweet_count': 3,\n",
       "  'favorite_count': 20,\n",
       "  'lang': 'und'},\n",
       " {'id': 1349361921447772160,\n",
       "  'id_str': '1349361921447772160',\n",
       "  'text': \"21' GOAL | #OFCCFC \\n\\n@AnirudhThapa wins a penalty for @ChennaiyinFC and Esmael Goncalves doubles the lead!\\n\\nOFC 0-2… https://t.co/9ox9zps8kW\",\n",
       "  'source': 'Twitter Web App',\n",
       "  'source_url': 'https://mobile.twitter.com',\n",
       "  'retweet_count': 0,\n",
       "  'favorite_count': 29,\n",
       "  'lang': 'en'},\n",
       " {'id': 1349361840841699328,\n",
       "  'id_str': '1349361840841699328',\n",
       "  'text': 'Acting U.S. attorney general warns insurrectionists against further attacks https://t.co/GrwJPRak6d https://t.co/mbXHtmA8se',\n",
       "  'source': 'True Anthem',\n",
       "  'source_url': 'https://trueanthem.com/',\n",
       "  'retweet_count': 8,\n",
       "  'favorite_count': 40,\n",
       "  'lang': 'en'},\n",
       " {'id': 1349361829605109761,\n",
       "  'id_str': '1349361829605109761',\n",
       "  'text': '#NEWSUPDATE | CBI registers bank fraud case of over Rs 200 crore against Bengaluru-based Steel Hypermart India Priv… https://t.co/s7Xd6R7Jgg',\n",
       "  'source': 'TweetDeck',\n",
       "  'source_url': 'https://about.twitter.com/products/tweetdeck',\n",
       "  'retweet_count': 4,\n",
       "  'favorite_count': 26,\n",
       "  'lang': 'en'},\n",
       " {'id': 1349361810584039427,\n",
       "  'id_str': '1349361810584039427',\n",
       "  'text': 'As cases of COVID-19 surge daily, surpassing levels seen in the first wave of the pandemic, South African restauran… https://t.co/PGAml6lgmJ',\n",
       "  'source': 'Twitter Media Studio',\n",
       "  'source_url': 'https://studio.twitter.com',\n",
       "  'retweet_count': 6,\n",
       "  'favorite_count': 7,\n",
       "  'lang': 'en'},\n",
       " {'id': 1349361679570669570,\n",
       "  'id_str': '1349361679570669570',\n",
       "  'text': '\"किसान आंदोलन में खालिस्तानी एंट्री मंज़ूर नही\" ये कहना है मनजिंदर सिंह सिरसा (@mssirsa) का। आंदोलन का झंडा सिर्फ… https://t.co/TwxiVyQQnp',\n",
       "  'source': 'Twitter Media Studio',\n",
       "  'source_url': 'https://studio.twitter.com',\n",
       "  'retweet_count': 0,\n",
       "  'favorite_count': 25,\n",
       "  'lang': 'hi'},\n",
       " {'id': 1349361634070827012,\n",
       "  'id_str': '1349361634070827012',\n",
       "  'text': '#JustIn | US House of Representatives opens #DonaldTrump impeachment session (News Agency AFP)',\n",
       "  'source': 'Twitter Web App',\n",
       "  'source_url': 'https://mobile.twitter.com',\n",
       "  'retweet_count': 10,\n",
       "  'favorite_count': 55,\n",
       "  'lang': 'en'},\n",
       " {'id': 1349361558984396800,\n",
       "  'id_str': '1349361558984396800',\n",
       "  'text': '#COVIDVaccination | All vaccine beneficiaries in Maharashtra will be given a vaccination certificate with unique QR… https://t.co/RBDcfep2Wi',\n",
       "  'source': 'TweetDeck',\n",
       "  'source_url': 'https://about.twitter.com/products/tweetdeck',\n",
       "  'retweet_count': 3,\n",
       "  'favorite_count': 13,\n",
       "  'lang': 'en'},\n",
       " {'id': 1349361484544016390,\n",
       "  'id_str': '1349361484544016390',\n",
       "  'text': 'Rashford takes on the government – again: Politics Weekly podcast https://t.co/0sbC1wtKvk',\n",
       "  'source': 'Echobox',\n",
       "  'source_url': 'https://www.echobox.com',\n",
       "  'retweet_count': 5,\n",
       "  'favorite_count': 16,\n",
       "  'lang': 'en'}]"
      ]
     },
     "execution_count": 35,
     "metadata": {},
     "output_type": "execute_result"
    }
   ],
   "source": [
    "tweets_data"
   ]
  },
  {
   "cell_type": "code",
   "execution_count": 37,
   "metadata": {},
   "outputs": [
    {
     "data": {
      "text/html": [
       "<div>\n",
       "<style scoped>\n",
       "    .dataframe tbody tr th:only-of-type {\n",
       "        vertical-align: middle;\n",
       "    }\n",
       "\n",
       "    .dataframe tbody tr th {\n",
       "        vertical-align: top;\n",
       "    }\n",
       "\n",
       "    .dataframe thead th {\n",
       "        text-align: right;\n",
       "    }\n",
       "</style>\n",
       "<table border=\"1\" class=\"dataframe\">\n",
       "  <thead>\n",
       "    <tr style=\"text-align: right;\">\n",
       "      <th></th>\n",
       "      <th>favorite_count</th>\n",
       "      <th>id</th>\n",
       "      <th>retweet_count</th>\n",
       "      <th>text</th>\n",
       "      <th>id_str</th>\n",
       "      <th>source</th>\n",
       "      <th>source_url</th>\n",
       "      <th>lang</th>\n",
       "    </tr>\n",
       "  </thead>\n",
       "  <tbody>\n",
       "    <tr>\n",
       "      <th>0</th>\n",
       "      <td>0</td>\n",
       "      <td>1349362434772000770</td>\n",
       "      <td>2</td>\n",
       "      <td>Jumping into a wormhole might cause it to cont...</td>\n",
       "      <td>1349362434772000770</td>\n",
       "      <td>Echobox</td>\n",
       "      <td>https://www.echobox.com</td>\n",
       "      <td>en</td>\n",
       "    </tr>\n",
       "    <tr>\n",
       "      <th>1</th>\n",
       "      <td>2</td>\n",
       "      <td>1349362395999715329</td>\n",
       "      <td>0</td>\n",
       "      <td>#DonaldTrump https://t.co/ov12tV1ak9</td>\n",
       "      <td>1349362395999715329</td>\n",
       "      <td>Twitter Web App</td>\n",
       "      <td>https://mobile.twitter.com</td>\n",
       "      <td>und</td>\n",
       "    </tr>\n",
       "    <tr>\n",
       "      <th>2</th>\n",
       "      <td>0</td>\n",
       "      <td>1349362389792092163</td>\n",
       "      <td>8</td>\n",
       "      <td>RT @aaipblairport: VSI Airport gates were thro...</td>\n",
       "      <td>1349362389792092163</td>\n",
       "      <td>Twitter for Android</td>\n",
       "      <td>http://twitter.com/download/android</td>\n",
       "      <td>en</td>\n",
       "    </tr>\n",
       "    <tr>\n",
       "      <th>3</th>\n",
       "      <td>9</td>\n",
       "      <td>1349362370070548480</td>\n",
       "      <td>1</td>\n",
       "      <td>#LIVE: एवरेस्ट छोड़ो सिकदर बोलो\\n\\n@AmanChopra...</td>\n",
       "      <td>1349362370070548480</td>\n",
       "      <td>Twitter Media Studio</td>\n",
       "      <td>https://studio.twitter.com</td>\n",
       "      <td>hi</td>\n",
       "    </tr>\n",
       "    <tr>\n",
       "      <th>4</th>\n",
       "      <td>4</td>\n",
       "      <td>1349362354534838278</td>\n",
       "      <td>0</td>\n",
       "      <td>कृषि कानून: कमेटी के सदस्यों पर कांग्रेस प्रवक...</td>\n",
       "      <td>1349362354534838278</td>\n",
       "      <td>Twitter Web App</td>\n",
       "      <td>https://mobile.twitter.com</td>\n",
       "      <td>hi</td>\n",
       "    </tr>\n",
       "  </tbody>\n",
       "</table>\n",
       "</div>"
      ],
      "text/plain": [
       "   favorite_count                   id  retweet_count  \\\n",
       "0               0  1349362434772000770              2   \n",
       "1               2  1349362395999715329              0   \n",
       "2               0  1349362389792092163              8   \n",
       "3               9  1349362370070548480              1   \n",
       "4               4  1349362354534838278              0   \n",
       "\n",
       "                                                text               id_str  \\\n",
       "0  Jumping into a wormhole might cause it to cont...  1349362434772000770   \n",
       "1               #DonaldTrump https://t.co/ov12tV1ak9  1349362395999715329   \n",
       "2  RT @aaipblairport: VSI Airport gates were thro...  1349362389792092163   \n",
       "3  #LIVE: एवरेस्ट छोड़ो सिकदर बोलो\\n\\n@AmanChopra...  1349362370070548480   \n",
       "4  कृषि कानून: कमेटी के सदस्यों पर कांग्रेस प्रवक...  1349362354534838278   \n",
       "\n",
       "                 source                           source_url lang  \n",
       "0               Echobox              https://www.echobox.com   en  \n",
       "1       Twitter Web App           https://mobile.twitter.com  und  \n",
       "2   Twitter for Android  http://twitter.com/download/android   en  \n",
       "3  Twitter Media Studio           https://studio.twitter.com   hi  \n",
       "4       Twitter Web App           https://mobile.twitter.com   hi  "
      ]
     },
     "execution_count": 37,
     "metadata": {},
     "output_type": "execute_result"
    }
   ],
   "source": [
    "#Create DataFrame\n",
    "df = pd.DataFrame(tweets_data, columns = header_cols)\n",
    "df.head()"
   ]
  },
  {
   "cell_type": "code",
   "execution_count": 46,
   "metadata": {
    "scrolled": true
   },
   "outputs": [
    {
     "data": {
      "text/html": [
       "<div>\n",
       "<style scoped>\n",
       "    .dataframe tbody tr th:only-of-type {\n",
       "        vertical-align: middle;\n",
       "    }\n",
       "\n",
       "    .dataframe tbody tr th {\n",
       "        vertical-align: top;\n",
       "    }\n",
       "\n",
       "    .dataframe thead th {\n",
       "        text-align: right;\n",
       "    }\n",
       "</style>\n",
       "<table border=\"1\" class=\"dataframe\">\n",
       "  <thead>\n",
       "    <tr style=\"text-align: right;\">\n",
       "      <th></th>\n",
       "      <th>favorite_count</th>\n",
       "      <th>in_reply_to_user_id</th>\n",
       "      <th>id</th>\n",
       "      <th>retweet_count</th>\n",
       "      <th>in_reply_to_user_id_str</th>\n",
       "      <th>text</th>\n",
       "      <th>in_reply_to_status_id_str</th>\n",
       "      <th>id_str</th>\n",
       "      <th>in_reply_to_screen_name</th>\n",
       "      <th>source</th>\n",
       "      <th>source_url</th>\n",
       "      <th>lang</th>\n",
       "      <th>in_reply_to_status_id</th>\n",
       "      <th>User</th>\n",
       "      <th>Author</th>\n",
       "    </tr>\n",
       "  </thead>\n",
       "  <tbody>\n",
       "    <tr>\n",
       "      <th>0</th>\n",
       "      <td>28</td>\n",
       "      <td>NaN</td>\n",
       "      <td>1349375029394300929</td>\n",
       "      <td>3</td>\n",
       "      <td>NaN</td>\n",
       "      <td>Raipur: Chhattisgarh received the first batch ...</td>\n",
       "      <td>NaN</td>\n",
       "      <td>1349375029394300929</td>\n",
       "      <td>NaN</td>\n",
       "      <td>Twitter Web App</td>\n",
       "      <td>https://mobile.twitter.com</td>\n",
       "      <td>en</td>\n",
       "      <td>NaN</td>\n",
       "      <td>ANI</td>\n",
       "      <td>ANI</td>\n",
       "    </tr>\n",
       "    <tr>\n",
       "      <th>1</th>\n",
       "      <td>98</td>\n",
       "      <td>NaN</td>\n",
       "      <td>1349374902537760768</td>\n",
       "      <td>21</td>\n",
       "      <td>NaN</td>\n",
       "      <td>A rioter who was photographed wearing a “Camp ...</td>\n",
       "      <td>NaN</td>\n",
       "      <td>1349374902537760768</td>\n",
       "      <td>NaN</td>\n",
       "      <td>SocialFlow</td>\n",
       "      <td>http://www.socialflow.com</td>\n",
       "      <td>en</td>\n",
       "      <td>NaN</td>\n",
       "      <td>nytimes</td>\n",
       "      <td>nytimes</td>\n",
       "    </tr>\n",
       "    <tr>\n",
       "      <th>2</th>\n",
       "      <td>21</td>\n",
       "      <td>NaN</td>\n",
       "      <td>1349374774225498113</td>\n",
       "      <td>2</td>\n",
       "      <td>NaN</td>\n",
       "      <td>.@OnReality_Check | Vrinda Grover, Advocate, S...</td>\n",
       "      <td>NaN</td>\n",
       "      <td>1349374774225498113</td>\n",
       "      <td>NaN</td>\n",
       "      <td>Twitter Web App</td>\n",
       "      <td>https://mobile.twitter.com</td>\n",
       "      <td>en</td>\n",
       "      <td>NaN</td>\n",
       "      <td>ndtv</td>\n",
       "      <td>ndtv</td>\n",
       "    </tr>\n",
       "    <tr>\n",
       "      <th>3</th>\n",
       "      <td>13</td>\n",
       "      <td>NaN</td>\n",
       "      <td>1349374658102128641</td>\n",
       "      <td>2</td>\n",
       "      <td>NaN</td>\n",
       "      <td>The COVID-19 pandemic has devastated the Costa...</td>\n",
       "      <td>NaN</td>\n",
       "      <td>1349374658102128641</td>\n",
       "      <td>NaN</td>\n",
       "      <td>Khoros</td>\n",
       "      <td>https://www.spredfast.com/</td>\n",
       "      <td>en</td>\n",
       "      <td>NaN</td>\n",
       "      <td>NatGeoTravel</td>\n",
       "      <td>NatGeoTravel</td>\n",
       "    </tr>\n",
       "    <tr>\n",
       "      <th>4</th>\n",
       "      <td>13</td>\n",
       "      <td>NaN</td>\n",
       "      <td>1349374430829535232</td>\n",
       "      <td>1</td>\n",
       "      <td>NaN</td>\n",
       "      <td>Barbara Novick, who built a lobbying machine a...</td>\n",
       "      <td>NaN</td>\n",
       "      <td>1349374430829535232</td>\n",
       "      <td>NaN</td>\n",
       "      <td>SocialFlow</td>\n",
       "      <td>http://www.socialflow.com</td>\n",
       "      <td>en</td>\n",
       "      <td>NaN</td>\n",
       "      <td>WSJ</td>\n",
       "      <td>WSJ</td>\n",
       "    </tr>\n",
       "  </tbody>\n",
       "</table>\n",
       "</div>"
      ],
      "text/plain": [
       "   favorite_count  in_reply_to_user_id                   id  retweet_count  \\\n",
       "0              28                  NaN  1349375029394300929              3   \n",
       "1              98                  NaN  1349374902537760768             21   \n",
       "2              21                  NaN  1349374774225498113              2   \n",
       "3              13                  NaN  1349374658102128641              2   \n",
       "4              13                  NaN  1349374430829535232              1   \n",
       "\n",
       "  in_reply_to_user_id_str                                               text  \\\n",
       "0                     NaN  Raipur: Chhattisgarh received the first batch ...   \n",
       "1                     NaN  A rioter who was photographed wearing a “Camp ...   \n",
       "2                     NaN  .@OnReality_Check | Vrinda Grover, Advocate, S...   \n",
       "3                     NaN  The COVID-19 pandemic has devastated the Costa...   \n",
       "4                     NaN  Barbara Novick, who built a lobbying machine a...   \n",
       "\n",
       "  in_reply_to_status_id_str               id_str in_reply_to_screen_name  \\\n",
       "0                       NaN  1349375029394300929                     NaN   \n",
       "1                       NaN  1349374902537760768                     NaN   \n",
       "2                       NaN  1349374774225498113                     NaN   \n",
       "3                       NaN  1349374658102128641                     NaN   \n",
       "4                       NaN  1349374430829535232                     NaN   \n",
       "\n",
       "            source                  source_url lang  in_reply_to_status_id  \\\n",
       "0  Twitter Web App  https://mobile.twitter.com   en                    NaN   \n",
       "1       SocialFlow   http://www.socialflow.com   en                    NaN   \n",
       "2  Twitter Web App  https://mobile.twitter.com   en                    NaN   \n",
       "3           Khoros  https://www.spredfast.com/   en                    NaN   \n",
       "4       SocialFlow   http://www.socialflow.com   en                    NaN   \n",
       "\n",
       "           User        Author  \n",
       "0           ANI           ANI  \n",
       "1       nytimes       nytimes  \n",
       "2          ndtv          ndtv  \n",
       "3  NatGeoTravel  NatGeoTravel  \n",
       "4           WSJ           WSJ  "
      ]
     },
     "execution_count": 46,
     "metadata": {},
     "output_type": "execute_result"
    }
   ],
   "source": [
    "my_timeline = api.home_timeline()\n",
    "df2 = extract_timeline_as_df(my_timeline)\n",
    "df2.head()"
   ]
  },
  {
   "cell_type": "code",
   "execution_count": 45,
   "metadata": {},
   "outputs": [],
   "source": [
    "def extract_timeline_as_df(timeline_list):   \n",
    "    columns = set()\n",
    "    allowed_data_type = [str, int]\n",
    "    tweets_data = []\n",
    "\n",
    "\n",
    "    for status in timeline_list:\n",
    "        \n",
    "        status_dict = dict(vars(status)) \n",
    "        #vars gives many information in form of dict so we can make these features as columns of dataFrame\n",
    "        keys = status_dict.keys()\n",
    "        single_tweet_data = {'User': status.user.screen_name, 'Author': status.author.screen_name}\n",
    "        #it will give the info about user and author name for ease of understanding\n",
    "\n",
    "\n",
    "        for k in keys:\n",
    "            try:\n",
    "                value_type = type(status_dict[k])\n",
    "            except:\n",
    "                value_type = None\n",
    "\n",
    "\n",
    "            if value_type != None:\n",
    "                if value_type in allowed_data_type:\n",
    "                    single_tweet_data[k] = status_dict[k]\n",
    "                    columns.add(k)\n",
    "\n",
    "        tweets_data.append(single_tweet_data)    \n",
    "\n",
    "    header_cols = list(columns)\n",
    "    header_cols.append('User')\n",
    "    header_cols.append('Author')\n",
    "    df = pd.DataFrame(tweets_data, columns=header_cols)\n",
    "    return df"
   ]
  },
  {
   "cell_type": "code",
   "execution_count": 48,
   "metadata": {},
   "outputs": [
    {
     "ename": "TweepError",
     "evalue": "Failed to send request: HTTPSConnectionPool(host='api.twitter.com', port=443): Max retries exceeded with url: /1.1/users/show.json?id=Apple (Caused by NewConnectionError('<urllib3.connection.HTTPSConnection object at 0x000001EE423C9630>: Failed to establish a new connection: [Errno 11001] getaddrinfo failed',))",
     "output_type": "error",
     "traceback": [
      "\u001b[1;31m---------------------------------------------------------------------------\u001b[0m",
      "\u001b[1;31mgaierror\u001b[0m                                  Traceback (most recent call last)",
      "\u001b[1;32m~\\AppData\\Local\\conda\\conda\\envs\\tensorflow\\lib\\site-packages\\urllib3\\connection.py\u001b[0m in \u001b[0;36m_new_conn\u001b[1;34m(self)\u001b[0m\n\u001b[0;32m    169\u001b[0m             conn = connection.create_connection(\n\u001b[1;32m--> 170\u001b[1;33m                 \u001b[1;33m(\u001b[0m\u001b[0mself\u001b[0m\u001b[1;33m.\u001b[0m\u001b[0m_dns_host\u001b[0m\u001b[1;33m,\u001b[0m \u001b[0mself\u001b[0m\u001b[1;33m.\u001b[0m\u001b[0mport\u001b[0m\u001b[1;33m)\u001b[0m\u001b[1;33m,\u001b[0m \u001b[0mself\u001b[0m\u001b[1;33m.\u001b[0m\u001b[0mtimeout\u001b[0m\u001b[1;33m,\u001b[0m \u001b[1;33m**\u001b[0m\u001b[0mextra_kw\u001b[0m\u001b[1;33m\u001b[0m\u001b[1;33m\u001b[0m\u001b[0m\n\u001b[0m\u001b[0;32m    171\u001b[0m             )\n",
      "\u001b[1;32m~\\AppData\\Local\\conda\\conda\\envs\\tensorflow\\lib\\site-packages\\urllib3\\util\\connection.py\u001b[0m in \u001b[0;36mcreate_connection\u001b[1;34m(address, timeout, source_address, socket_options)\u001b[0m\n\u001b[0;32m     72\u001b[0m \u001b[1;33m\u001b[0m\u001b[0m\n\u001b[1;32m---> 73\u001b[1;33m     \u001b[1;32mfor\u001b[0m \u001b[0mres\u001b[0m \u001b[1;32min\u001b[0m \u001b[0msocket\u001b[0m\u001b[1;33m.\u001b[0m\u001b[0mgetaddrinfo\u001b[0m\u001b[1;33m(\u001b[0m\u001b[0mhost\u001b[0m\u001b[1;33m,\u001b[0m \u001b[0mport\u001b[0m\u001b[1;33m,\u001b[0m \u001b[0mfamily\u001b[0m\u001b[1;33m,\u001b[0m \u001b[0msocket\u001b[0m\u001b[1;33m.\u001b[0m\u001b[0mSOCK_STREAM\u001b[0m\u001b[1;33m)\u001b[0m\u001b[1;33m:\u001b[0m\u001b[1;33m\u001b[0m\u001b[1;33m\u001b[0m\u001b[0m\n\u001b[0m\u001b[0;32m     74\u001b[0m         \u001b[0maf\u001b[0m\u001b[1;33m,\u001b[0m \u001b[0msocktype\u001b[0m\u001b[1;33m,\u001b[0m \u001b[0mproto\u001b[0m\u001b[1;33m,\u001b[0m \u001b[0mcanonname\u001b[0m\u001b[1;33m,\u001b[0m \u001b[0msa\u001b[0m \u001b[1;33m=\u001b[0m \u001b[0mres\u001b[0m\u001b[1;33m\u001b[0m\u001b[1;33m\u001b[0m\u001b[0m\n",
      "\u001b[1;32m~\\AppData\\Local\\conda\\conda\\envs\\tensorflow\\lib\\socket.py\u001b[0m in \u001b[0;36mgetaddrinfo\u001b[1;34m(host, port, family, type, proto, flags)\u001b[0m\n\u001b[0;32m    744\u001b[0m     \u001b[0maddrlist\u001b[0m \u001b[1;33m=\u001b[0m \u001b[1;33m[\u001b[0m\u001b[1;33m]\u001b[0m\u001b[1;33m\u001b[0m\u001b[1;33m\u001b[0m\u001b[0m\n\u001b[1;32m--> 745\u001b[1;33m     \u001b[1;32mfor\u001b[0m \u001b[0mres\u001b[0m \u001b[1;32min\u001b[0m \u001b[0m_socket\u001b[0m\u001b[1;33m.\u001b[0m\u001b[0mgetaddrinfo\u001b[0m\u001b[1;33m(\u001b[0m\u001b[0mhost\u001b[0m\u001b[1;33m,\u001b[0m \u001b[0mport\u001b[0m\u001b[1;33m,\u001b[0m \u001b[0mfamily\u001b[0m\u001b[1;33m,\u001b[0m \u001b[0mtype\u001b[0m\u001b[1;33m,\u001b[0m \u001b[0mproto\u001b[0m\u001b[1;33m,\u001b[0m \u001b[0mflags\u001b[0m\u001b[1;33m)\u001b[0m\u001b[1;33m:\u001b[0m\u001b[1;33m\u001b[0m\u001b[1;33m\u001b[0m\u001b[0m\n\u001b[0m\u001b[0;32m    746\u001b[0m         \u001b[0maf\u001b[0m\u001b[1;33m,\u001b[0m \u001b[0msocktype\u001b[0m\u001b[1;33m,\u001b[0m \u001b[0mproto\u001b[0m\u001b[1;33m,\u001b[0m \u001b[0mcanonname\u001b[0m\u001b[1;33m,\u001b[0m \u001b[0msa\u001b[0m \u001b[1;33m=\u001b[0m \u001b[0mres\u001b[0m\u001b[1;33m\u001b[0m\u001b[1;33m\u001b[0m\u001b[0m\n",
      "\u001b[1;31mgaierror\u001b[0m: [Errno 11001] getaddrinfo failed",
      "\nDuring handling of the above exception, another exception occurred:\n",
      "\u001b[1;31mNewConnectionError\u001b[0m                        Traceback (most recent call last)",
      "\u001b[1;32m~\\AppData\\Local\\conda\\conda\\envs\\tensorflow\\lib\\site-packages\\urllib3\\connectionpool.py\u001b[0m in \u001b[0;36murlopen\u001b[1;34m(self, method, url, body, headers, retries, redirect, assert_same_host, timeout, pool_timeout, release_conn, chunked, body_pos, **response_kw)\u001b[0m\n\u001b[0;32m    705\u001b[0m                 \u001b[0mheaders\u001b[0m\u001b[1;33m=\u001b[0m\u001b[0mheaders\u001b[0m\u001b[1;33m,\u001b[0m\u001b[1;33m\u001b[0m\u001b[1;33m\u001b[0m\u001b[0m\n\u001b[1;32m--> 706\u001b[1;33m                 \u001b[0mchunked\u001b[0m\u001b[1;33m=\u001b[0m\u001b[0mchunked\u001b[0m\u001b[1;33m,\u001b[0m\u001b[1;33m\u001b[0m\u001b[1;33m\u001b[0m\u001b[0m\n\u001b[0m\u001b[0;32m    707\u001b[0m             )\n",
      "\u001b[1;32m~\\AppData\\Local\\conda\\conda\\envs\\tensorflow\\lib\\site-packages\\urllib3\\connectionpool.py\u001b[0m in \u001b[0;36m_make_request\u001b[1;34m(self, conn, method, url, timeout, chunked, **httplib_request_kw)\u001b[0m\n\u001b[0;32m    381\u001b[0m         \u001b[1;32mtry\u001b[0m\u001b[1;33m:\u001b[0m\u001b[1;33m\u001b[0m\u001b[1;33m\u001b[0m\u001b[0m\n\u001b[1;32m--> 382\u001b[1;33m             \u001b[0mself\u001b[0m\u001b[1;33m.\u001b[0m\u001b[0m_validate_conn\u001b[0m\u001b[1;33m(\u001b[0m\u001b[0mconn\u001b[0m\u001b[1;33m)\u001b[0m\u001b[1;33m\u001b[0m\u001b[1;33m\u001b[0m\u001b[0m\n\u001b[0m\u001b[0;32m    383\u001b[0m         \u001b[1;32mexcept\u001b[0m \u001b[1;33m(\u001b[0m\u001b[0mSocketTimeout\u001b[0m\u001b[1;33m,\u001b[0m \u001b[0mBaseSSLError\u001b[0m\u001b[1;33m)\u001b[0m \u001b[1;32mas\u001b[0m \u001b[0me\u001b[0m\u001b[1;33m:\u001b[0m\u001b[1;33m\u001b[0m\u001b[1;33m\u001b[0m\u001b[0m\n",
      "\u001b[1;32m~\\AppData\\Local\\conda\\conda\\envs\\tensorflow\\lib\\site-packages\\urllib3\\connectionpool.py\u001b[0m in \u001b[0;36m_validate_conn\u001b[1;34m(self, conn)\u001b[0m\n\u001b[0;32m   1009\u001b[0m         \u001b[1;32mif\u001b[0m \u001b[1;32mnot\u001b[0m \u001b[0mgetattr\u001b[0m\u001b[1;33m(\u001b[0m\u001b[0mconn\u001b[0m\u001b[1;33m,\u001b[0m \u001b[1;34m\"sock\"\u001b[0m\u001b[1;33m,\u001b[0m \u001b[1;32mNone\u001b[0m\u001b[1;33m)\u001b[0m\u001b[1;33m:\u001b[0m  \u001b[1;31m# AppEngine might not have  `.sock`\u001b[0m\u001b[1;33m\u001b[0m\u001b[1;33m\u001b[0m\u001b[0m\n\u001b[1;32m-> 1010\u001b[1;33m             \u001b[0mconn\u001b[0m\u001b[1;33m.\u001b[0m\u001b[0mconnect\u001b[0m\u001b[1;33m(\u001b[0m\u001b[1;33m)\u001b[0m\u001b[1;33m\u001b[0m\u001b[1;33m\u001b[0m\u001b[0m\n\u001b[0m\u001b[0;32m   1011\u001b[0m \u001b[1;33m\u001b[0m\u001b[0m\n",
      "\u001b[1;32m~\\AppData\\Local\\conda\\conda\\envs\\tensorflow\\lib\\site-packages\\urllib3\\connection.py\u001b[0m in \u001b[0;36mconnect\u001b[1;34m(self)\u001b[0m\n\u001b[0;32m    352\u001b[0m         \u001b[1;31m# Add certificate verification\u001b[0m\u001b[1;33m\u001b[0m\u001b[1;33m\u001b[0m\u001b[1;33m\u001b[0m\u001b[0m\n\u001b[1;32m--> 353\u001b[1;33m         \u001b[0mconn\u001b[0m \u001b[1;33m=\u001b[0m \u001b[0mself\u001b[0m\u001b[1;33m.\u001b[0m\u001b[0m_new_conn\u001b[0m\u001b[1;33m(\u001b[0m\u001b[1;33m)\u001b[0m\u001b[1;33m\u001b[0m\u001b[1;33m\u001b[0m\u001b[0m\n\u001b[0m\u001b[0;32m    354\u001b[0m         \u001b[0mhostname\u001b[0m \u001b[1;33m=\u001b[0m \u001b[0mself\u001b[0m\u001b[1;33m.\u001b[0m\u001b[0mhost\u001b[0m\u001b[1;33m\u001b[0m\u001b[1;33m\u001b[0m\u001b[0m\n",
      "\u001b[1;32m~\\AppData\\Local\\conda\\conda\\envs\\tensorflow\\lib\\site-packages\\urllib3\\connection.py\u001b[0m in \u001b[0;36m_new_conn\u001b[1;34m(self)\u001b[0m\n\u001b[0;32m    181\u001b[0m             raise NewConnectionError(\n\u001b[1;32m--> 182\u001b[1;33m                 \u001b[0mself\u001b[0m\u001b[1;33m,\u001b[0m \u001b[1;34m\"Failed to establish a new connection: %s\"\u001b[0m \u001b[1;33m%\u001b[0m \u001b[0me\u001b[0m\u001b[1;33m\u001b[0m\u001b[1;33m\u001b[0m\u001b[0m\n\u001b[0m\u001b[0;32m    183\u001b[0m             )\n",
      "\u001b[1;31mNewConnectionError\u001b[0m: <urllib3.connection.HTTPSConnection object at 0x000001EE423C9630>: Failed to establish a new connection: [Errno 11001] getaddrinfo failed",
      "\nDuring handling of the above exception, another exception occurred:\n",
      "\u001b[1;31mMaxRetryError\u001b[0m                             Traceback (most recent call last)",
      "\u001b[1;32m~\\AppData\\Local\\conda\\conda\\envs\\tensorflow\\lib\\site-packages\\requests\\adapters.py\u001b[0m in \u001b[0;36msend\u001b[1;34m(self, request, stream, timeout, verify, cert, proxies)\u001b[0m\n\u001b[0;32m    448\u001b[0m                     \u001b[0mretries\u001b[0m\u001b[1;33m=\u001b[0m\u001b[0mself\u001b[0m\u001b[1;33m.\u001b[0m\u001b[0mmax_retries\u001b[0m\u001b[1;33m,\u001b[0m\u001b[1;33m\u001b[0m\u001b[1;33m\u001b[0m\u001b[0m\n\u001b[1;32m--> 449\u001b[1;33m                     \u001b[0mtimeout\u001b[0m\u001b[1;33m=\u001b[0m\u001b[0mtimeout\u001b[0m\u001b[1;33m\u001b[0m\u001b[1;33m\u001b[0m\u001b[0m\n\u001b[0m\u001b[0;32m    450\u001b[0m                 )\n",
      "\u001b[1;32m~\\AppData\\Local\\conda\\conda\\envs\\tensorflow\\lib\\site-packages\\urllib3\\connectionpool.py\u001b[0m in \u001b[0;36murlopen\u001b[1;34m(self, method, url, body, headers, retries, redirect, assert_same_host, timeout, pool_timeout, release_conn, chunked, body_pos, **response_kw)\u001b[0m\n\u001b[0;32m    755\u001b[0m             retries = retries.increment(\n\u001b[1;32m--> 756\u001b[1;33m                 \u001b[0mmethod\u001b[0m\u001b[1;33m,\u001b[0m \u001b[0murl\u001b[0m\u001b[1;33m,\u001b[0m \u001b[0merror\u001b[0m\u001b[1;33m=\u001b[0m\u001b[0me\u001b[0m\u001b[1;33m,\u001b[0m \u001b[0m_pool\u001b[0m\u001b[1;33m=\u001b[0m\u001b[0mself\u001b[0m\u001b[1;33m,\u001b[0m \u001b[0m_stacktrace\u001b[0m\u001b[1;33m=\u001b[0m\u001b[0msys\u001b[0m\u001b[1;33m.\u001b[0m\u001b[0mexc_info\u001b[0m\u001b[1;33m(\u001b[0m\u001b[1;33m)\u001b[0m\u001b[1;33m[\u001b[0m\u001b[1;36m2\u001b[0m\u001b[1;33m]\u001b[0m\u001b[1;33m\u001b[0m\u001b[1;33m\u001b[0m\u001b[0m\n\u001b[0m\u001b[0;32m    757\u001b[0m             )\n",
      "\u001b[1;32m~\\AppData\\Local\\conda\\conda\\envs\\tensorflow\\lib\\site-packages\\urllib3\\util\\retry.py\u001b[0m in \u001b[0;36mincrement\u001b[1;34m(self, method, url, response, error, _pool, _stacktrace)\u001b[0m\n\u001b[0;32m    572\u001b[0m         \u001b[1;32mif\u001b[0m \u001b[0mnew_retry\u001b[0m\u001b[1;33m.\u001b[0m\u001b[0mis_exhausted\u001b[0m\u001b[1;33m(\u001b[0m\u001b[1;33m)\u001b[0m\u001b[1;33m:\u001b[0m\u001b[1;33m\u001b[0m\u001b[1;33m\u001b[0m\u001b[0m\n\u001b[1;32m--> 573\u001b[1;33m             \u001b[1;32mraise\u001b[0m \u001b[0mMaxRetryError\u001b[0m\u001b[1;33m(\u001b[0m\u001b[0m_pool\u001b[0m\u001b[1;33m,\u001b[0m \u001b[0murl\u001b[0m\u001b[1;33m,\u001b[0m \u001b[0merror\u001b[0m \u001b[1;32mor\u001b[0m \u001b[0mResponseError\u001b[0m\u001b[1;33m(\u001b[0m\u001b[0mcause\u001b[0m\u001b[1;33m)\u001b[0m\u001b[1;33m)\u001b[0m\u001b[1;33m\u001b[0m\u001b[1;33m\u001b[0m\u001b[0m\n\u001b[0m\u001b[0;32m    574\u001b[0m \u001b[1;33m\u001b[0m\u001b[0m\n",
      "\u001b[1;31mMaxRetryError\u001b[0m: HTTPSConnectionPool(host='api.twitter.com', port=443): Max retries exceeded with url: /1.1/users/show.json?id=Apple (Caused by NewConnectionError('<urllib3.connection.HTTPSConnection object at 0x000001EE423C9630>: Failed to establish a new connection: [Errno 11001] getaddrinfo failed',))",
      "\nDuring handling of the above exception, another exception occurred:\n",
      "\u001b[1;31mConnectionError\u001b[0m                           Traceback (most recent call last)",
      "\u001b[1;32m~\\AppData\\Local\\conda\\conda\\envs\\tensorflow\\lib\\site-packages\\tweepy\\binder.py\u001b[0m in \u001b[0;36mexecute\u001b[1;34m(self)\u001b[0m\n\u001b[0;32m    189\u001b[0m                                                 \u001b[0mauth\u001b[0m\u001b[1;33m=\u001b[0m\u001b[0mauth\u001b[0m\u001b[1;33m,\u001b[0m\u001b[1;33m\u001b[0m\u001b[1;33m\u001b[0m\u001b[0m\n\u001b[1;32m--> 190\u001b[1;33m                                                 proxies=self.api.proxy)\n\u001b[0m\u001b[0;32m    191\u001b[0m                 \u001b[1;32mexcept\u001b[0m \u001b[0mException\u001b[0m \u001b[1;32mas\u001b[0m \u001b[0me\u001b[0m\u001b[1;33m:\u001b[0m\u001b[1;33m\u001b[0m\u001b[1;33m\u001b[0m\u001b[0m\n",
      "\u001b[1;32m~\\AppData\\Local\\conda\\conda\\envs\\tensorflow\\lib\\site-packages\\requests\\sessions.py\u001b[0m in \u001b[0;36mrequest\u001b[1;34m(self, method, url, params, data, headers, cookies, files, auth, timeout, allow_redirects, proxies, hooks, stream, verify, cert, json)\u001b[0m\n\u001b[0;32m    541\u001b[0m         \u001b[0msend_kwargs\u001b[0m\u001b[1;33m.\u001b[0m\u001b[0mupdate\u001b[0m\u001b[1;33m(\u001b[0m\u001b[0msettings\u001b[0m\u001b[1;33m)\u001b[0m\u001b[1;33m\u001b[0m\u001b[1;33m\u001b[0m\u001b[0m\n\u001b[1;32m--> 542\u001b[1;33m         \u001b[0mresp\u001b[0m \u001b[1;33m=\u001b[0m \u001b[0mself\u001b[0m\u001b[1;33m.\u001b[0m\u001b[0msend\u001b[0m\u001b[1;33m(\u001b[0m\u001b[0mprep\u001b[0m\u001b[1;33m,\u001b[0m \u001b[1;33m**\u001b[0m\u001b[0msend_kwargs\u001b[0m\u001b[1;33m)\u001b[0m\u001b[1;33m\u001b[0m\u001b[1;33m\u001b[0m\u001b[0m\n\u001b[0m\u001b[0;32m    543\u001b[0m \u001b[1;33m\u001b[0m\u001b[0m\n",
      "\u001b[1;32m~\\AppData\\Local\\conda\\conda\\envs\\tensorflow\\lib\\site-packages\\requests\\sessions.py\u001b[0m in \u001b[0;36msend\u001b[1;34m(self, request, **kwargs)\u001b[0m\n\u001b[0;32m    654\u001b[0m         \u001b[1;31m# Send the request\u001b[0m\u001b[1;33m\u001b[0m\u001b[1;33m\u001b[0m\u001b[1;33m\u001b[0m\u001b[0m\n\u001b[1;32m--> 655\u001b[1;33m         \u001b[0mr\u001b[0m \u001b[1;33m=\u001b[0m \u001b[0madapter\u001b[0m\u001b[1;33m.\u001b[0m\u001b[0msend\u001b[0m\u001b[1;33m(\u001b[0m\u001b[0mrequest\u001b[0m\u001b[1;33m,\u001b[0m \u001b[1;33m**\u001b[0m\u001b[0mkwargs\u001b[0m\u001b[1;33m)\u001b[0m\u001b[1;33m\u001b[0m\u001b[1;33m\u001b[0m\u001b[0m\n\u001b[0m\u001b[0;32m    656\u001b[0m \u001b[1;33m\u001b[0m\u001b[0m\n",
      "\u001b[1;32m~\\AppData\\Local\\conda\\conda\\envs\\tensorflow\\lib\\site-packages\\requests\\adapters.py\u001b[0m in \u001b[0;36msend\u001b[1;34m(self, request, stream, timeout, verify, cert, proxies)\u001b[0m\n\u001b[0;32m    515\u001b[0m \u001b[1;33m\u001b[0m\u001b[0m\n\u001b[1;32m--> 516\u001b[1;33m             \u001b[1;32mraise\u001b[0m \u001b[0mConnectionError\u001b[0m\u001b[1;33m(\u001b[0m\u001b[0me\u001b[0m\u001b[1;33m,\u001b[0m \u001b[0mrequest\u001b[0m\u001b[1;33m=\u001b[0m\u001b[0mrequest\u001b[0m\u001b[1;33m)\u001b[0m\u001b[1;33m\u001b[0m\u001b[1;33m\u001b[0m\u001b[0m\n\u001b[0m\u001b[0;32m    517\u001b[0m \u001b[1;33m\u001b[0m\u001b[0m\n",
      "\u001b[1;31mConnectionError\u001b[0m: HTTPSConnectionPool(host='api.twitter.com', port=443): Max retries exceeded with url: /1.1/users/show.json?id=Apple (Caused by NewConnectionError('<urllib3.connection.HTTPSConnection object at 0x000001EE423C9630>: Failed to establish a new connection: [Errno 11001] getaddrinfo failed',))",
      "\nDuring handling of the above exception, another exception occurred:\n",
      "\u001b[1;31mTweepError\u001b[0m                                Traceback (most recent call last)",
      "\u001b[1;32m<ipython-input-48-98beec83f4df>\u001b[0m in \u001b[0;36m<module>\u001b[1;34m\u001b[0m\n\u001b[0;32m      1\u001b[0m \u001b[1;31m#Extract other user timeline\u001b[0m\u001b[1;33m\u001b[0m\u001b[1;33m\u001b[0m\u001b[1;33m\u001b[0m\u001b[0m\n\u001b[1;32m----> 2\u001b[1;33m \u001b[0muser\u001b[0m\u001b[1;33m=\u001b[0m\u001b[0mapi\u001b[0m\u001b[1;33m.\u001b[0m\u001b[0mget_user\u001b[0m\u001b[1;33m(\u001b[0m\u001b[1;34m\"Apple\"\u001b[0m\u001b[1;33m)\u001b[0m\u001b[1;33m\u001b[0m\u001b[1;33m\u001b[0m\u001b[0m\n\u001b[0m\u001b[0;32m      3\u001b[0m \u001b[0muser_timeline\u001b[0m \u001b[1;33m=\u001b[0m \u001b[0muser\u001b[0m\u001b[1;33m.\u001b[0m\u001b[0mtimeline\u001b[0m\u001b[1;33m(\u001b[0m\u001b[1;33m)\u001b[0m\u001b[1;33m\u001b[0m\u001b[1;33m\u001b[0m\u001b[0m\n",
      "\u001b[1;32m~\\AppData\\Local\\conda\\conda\\envs\\tensorflow\\lib\\site-packages\\tweepy\\binder.py\u001b[0m in \u001b[0;36m_call\u001b[1;34m(*args, **kwargs)\u001b[0m\n\u001b[0;32m    251\u001b[0m                 \u001b[1;32mreturn\u001b[0m \u001b[0mmethod\u001b[0m\u001b[1;33m\u001b[0m\u001b[1;33m\u001b[0m\u001b[0m\n\u001b[0;32m    252\u001b[0m             \u001b[1;32melse\u001b[0m\u001b[1;33m:\u001b[0m\u001b[1;33m\u001b[0m\u001b[1;33m\u001b[0m\u001b[0m\n\u001b[1;32m--> 253\u001b[1;33m                 \u001b[1;32mreturn\u001b[0m \u001b[0mmethod\u001b[0m\u001b[1;33m.\u001b[0m\u001b[0mexecute\u001b[0m\u001b[1;33m(\u001b[0m\u001b[1;33m)\u001b[0m\u001b[1;33m\u001b[0m\u001b[1;33m\u001b[0m\u001b[0m\n\u001b[0m\u001b[0;32m    254\u001b[0m         \u001b[1;32mfinally\u001b[0m\u001b[1;33m:\u001b[0m\u001b[1;33m\u001b[0m\u001b[1;33m\u001b[0m\u001b[0m\n\u001b[0;32m    255\u001b[0m             \u001b[0mmethod\u001b[0m\u001b[1;33m.\u001b[0m\u001b[0msession\u001b[0m\u001b[1;33m.\u001b[0m\u001b[0mclose\u001b[0m\u001b[1;33m(\u001b[0m\u001b[1;33m)\u001b[0m\u001b[1;33m\u001b[0m\u001b[1;33m\u001b[0m\u001b[0m\n",
      "\u001b[1;32m~\\AppData\\Local\\conda\\conda\\envs\\tensorflow\\lib\\site-packages\\tweepy\\binder.py\u001b[0m in \u001b[0;36mexecute\u001b[1;34m(self)\u001b[0m\n\u001b[0;32m    190\u001b[0m                                                 proxies=self.api.proxy)\n\u001b[0;32m    191\u001b[0m                 \u001b[1;32mexcept\u001b[0m \u001b[0mException\u001b[0m \u001b[1;32mas\u001b[0m \u001b[0me\u001b[0m\u001b[1;33m:\u001b[0m\u001b[1;33m\u001b[0m\u001b[1;33m\u001b[0m\u001b[0m\n\u001b[1;32m--> 192\u001b[1;33m                     \u001b[0msix\u001b[0m\u001b[1;33m.\u001b[0m\u001b[0mreraise\u001b[0m\u001b[1;33m(\u001b[0m\u001b[0mTweepError\u001b[0m\u001b[1;33m,\u001b[0m \u001b[0mTweepError\u001b[0m\u001b[1;33m(\u001b[0m\u001b[1;34m'Failed to send request: %s'\u001b[0m \u001b[1;33m%\u001b[0m \u001b[0me\u001b[0m\u001b[1;33m)\u001b[0m\u001b[1;33m,\u001b[0m \u001b[0msys\u001b[0m\u001b[1;33m.\u001b[0m\u001b[0mexc_info\u001b[0m\u001b[1;33m(\u001b[0m\u001b[1;33m)\u001b[0m\u001b[1;33m[\u001b[0m\u001b[1;36m2\u001b[0m\u001b[1;33m]\u001b[0m\u001b[1;33m)\u001b[0m\u001b[1;33m\u001b[0m\u001b[1;33m\u001b[0m\u001b[0m\n\u001b[0m\u001b[0;32m    193\u001b[0m \u001b[1;33m\u001b[0m\u001b[0m\n\u001b[0;32m    194\u001b[0m                 \u001b[0mrem_calls\u001b[0m \u001b[1;33m=\u001b[0m \u001b[0mresp\u001b[0m\u001b[1;33m.\u001b[0m\u001b[0mheaders\u001b[0m\u001b[1;33m.\u001b[0m\u001b[0mget\u001b[0m\u001b[1;33m(\u001b[0m\u001b[1;34m'x-rate-limit-remaining'\u001b[0m\u001b[1;33m)\u001b[0m\u001b[1;33m\u001b[0m\u001b[1;33m\u001b[0m\u001b[0m\n",
      "\u001b[1;32m~\\AppData\\Local\\conda\\conda\\envs\\tensorflow\\lib\\site-packages\\six.py\u001b[0m in \u001b[0;36mreraise\u001b[1;34m(tp, value, tb)\u001b[0m\n\u001b[0;32m    700\u001b[0m                 \u001b[0mvalue\u001b[0m \u001b[1;33m=\u001b[0m \u001b[0mtp\u001b[0m\u001b[1;33m(\u001b[0m\u001b[1;33m)\u001b[0m\u001b[1;33m\u001b[0m\u001b[1;33m\u001b[0m\u001b[0m\n\u001b[0;32m    701\u001b[0m             \u001b[1;32mif\u001b[0m \u001b[0mvalue\u001b[0m\u001b[1;33m.\u001b[0m\u001b[0m__traceback__\u001b[0m \u001b[1;32mis\u001b[0m \u001b[1;32mnot\u001b[0m \u001b[0mtb\u001b[0m\u001b[1;33m:\u001b[0m\u001b[1;33m\u001b[0m\u001b[1;33m\u001b[0m\u001b[0m\n\u001b[1;32m--> 702\u001b[1;33m                 \u001b[1;32mraise\u001b[0m \u001b[0mvalue\u001b[0m\u001b[1;33m.\u001b[0m\u001b[0mwith_traceback\u001b[0m\u001b[1;33m(\u001b[0m\u001b[0mtb\u001b[0m\u001b[1;33m)\u001b[0m\u001b[1;33m\u001b[0m\u001b[1;33m\u001b[0m\u001b[0m\n\u001b[0m\u001b[0;32m    703\u001b[0m             \u001b[1;32mraise\u001b[0m \u001b[0mvalue\u001b[0m\u001b[1;33m\u001b[0m\u001b[1;33m\u001b[0m\u001b[0m\n\u001b[0;32m    704\u001b[0m         \u001b[1;32mfinally\u001b[0m\u001b[1;33m:\u001b[0m\u001b[1;33m\u001b[0m\u001b[1;33m\u001b[0m\u001b[0m\n",
      "\u001b[1;32m~\\AppData\\Local\\conda\\conda\\envs\\tensorflow\\lib\\site-packages\\tweepy\\binder.py\u001b[0m in \u001b[0;36mexecute\u001b[1;34m(self)\u001b[0m\n\u001b[0;32m    188\u001b[0m                                                 \u001b[0mtimeout\u001b[0m\u001b[1;33m=\u001b[0m\u001b[0mself\u001b[0m\u001b[1;33m.\u001b[0m\u001b[0mapi\u001b[0m\u001b[1;33m.\u001b[0m\u001b[0mtimeout\u001b[0m\u001b[1;33m,\u001b[0m\u001b[1;33m\u001b[0m\u001b[1;33m\u001b[0m\u001b[0m\n\u001b[0;32m    189\u001b[0m                                                 \u001b[0mauth\u001b[0m\u001b[1;33m=\u001b[0m\u001b[0mauth\u001b[0m\u001b[1;33m,\u001b[0m\u001b[1;33m\u001b[0m\u001b[1;33m\u001b[0m\u001b[0m\n\u001b[1;32m--> 190\u001b[1;33m                                                 proxies=self.api.proxy)\n\u001b[0m\u001b[0;32m    191\u001b[0m                 \u001b[1;32mexcept\u001b[0m \u001b[0mException\u001b[0m \u001b[1;32mas\u001b[0m \u001b[0me\u001b[0m\u001b[1;33m:\u001b[0m\u001b[1;33m\u001b[0m\u001b[1;33m\u001b[0m\u001b[0m\n\u001b[0;32m    192\u001b[0m                     \u001b[0msix\u001b[0m\u001b[1;33m.\u001b[0m\u001b[0mreraise\u001b[0m\u001b[1;33m(\u001b[0m\u001b[0mTweepError\u001b[0m\u001b[1;33m,\u001b[0m \u001b[0mTweepError\u001b[0m\u001b[1;33m(\u001b[0m\u001b[1;34m'Failed to send request: %s'\u001b[0m \u001b[1;33m%\u001b[0m \u001b[0me\u001b[0m\u001b[1;33m)\u001b[0m\u001b[1;33m,\u001b[0m \u001b[0msys\u001b[0m\u001b[1;33m.\u001b[0m\u001b[0mexc_info\u001b[0m\u001b[1;33m(\u001b[0m\u001b[1;33m)\u001b[0m\u001b[1;33m[\u001b[0m\u001b[1;36m2\u001b[0m\u001b[1;33m]\u001b[0m\u001b[1;33m)\u001b[0m\u001b[1;33m\u001b[0m\u001b[1;33m\u001b[0m\u001b[0m\n",
      "\u001b[1;32m~\\AppData\\Local\\conda\\conda\\envs\\tensorflow\\lib\\site-packages\\requests\\sessions.py\u001b[0m in \u001b[0;36mrequest\u001b[1;34m(self, method, url, params, data, headers, cookies, files, auth, timeout, allow_redirects, proxies, hooks, stream, verify, cert, json)\u001b[0m\n\u001b[0;32m    540\u001b[0m         }\n\u001b[0;32m    541\u001b[0m         \u001b[0msend_kwargs\u001b[0m\u001b[1;33m.\u001b[0m\u001b[0mupdate\u001b[0m\u001b[1;33m(\u001b[0m\u001b[0msettings\u001b[0m\u001b[1;33m)\u001b[0m\u001b[1;33m\u001b[0m\u001b[1;33m\u001b[0m\u001b[0m\n\u001b[1;32m--> 542\u001b[1;33m         \u001b[0mresp\u001b[0m \u001b[1;33m=\u001b[0m \u001b[0mself\u001b[0m\u001b[1;33m.\u001b[0m\u001b[0msend\u001b[0m\u001b[1;33m(\u001b[0m\u001b[0mprep\u001b[0m\u001b[1;33m,\u001b[0m \u001b[1;33m**\u001b[0m\u001b[0msend_kwargs\u001b[0m\u001b[1;33m)\u001b[0m\u001b[1;33m\u001b[0m\u001b[1;33m\u001b[0m\u001b[0m\n\u001b[0m\u001b[0;32m    543\u001b[0m \u001b[1;33m\u001b[0m\u001b[0m\n\u001b[0;32m    544\u001b[0m         \u001b[1;32mreturn\u001b[0m \u001b[0mresp\u001b[0m\u001b[1;33m\u001b[0m\u001b[1;33m\u001b[0m\u001b[0m\n",
      "\u001b[1;32m~\\AppData\\Local\\conda\\conda\\envs\\tensorflow\\lib\\site-packages\\requests\\sessions.py\u001b[0m in \u001b[0;36msend\u001b[1;34m(self, request, **kwargs)\u001b[0m\n\u001b[0;32m    653\u001b[0m \u001b[1;33m\u001b[0m\u001b[0m\n\u001b[0;32m    654\u001b[0m         \u001b[1;31m# Send the request\u001b[0m\u001b[1;33m\u001b[0m\u001b[1;33m\u001b[0m\u001b[1;33m\u001b[0m\u001b[0m\n\u001b[1;32m--> 655\u001b[1;33m         \u001b[0mr\u001b[0m \u001b[1;33m=\u001b[0m \u001b[0madapter\u001b[0m\u001b[1;33m.\u001b[0m\u001b[0msend\u001b[0m\u001b[1;33m(\u001b[0m\u001b[0mrequest\u001b[0m\u001b[1;33m,\u001b[0m \u001b[1;33m**\u001b[0m\u001b[0mkwargs\u001b[0m\u001b[1;33m)\u001b[0m\u001b[1;33m\u001b[0m\u001b[1;33m\u001b[0m\u001b[0m\n\u001b[0m\u001b[0;32m    656\u001b[0m \u001b[1;33m\u001b[0m\u001b[0m\n\u001b[0;32m    657\u001b[0m         \u001b[1;31m# Total elapsed time of the request (approximately)\u001b[0m\u001b[1;33m\u001b[0m\u001b[1;33m\u001b[0m\u001b[1;33m\u001b[0m\u001b[0m\n",
      "\u001b[1;32m~\\AppData\\Local\\conda\\conda\\envs\\tensorflow\\lib\\site-packages\\requests\\adapters.py\u001b[0m in \u001b[0;36msend\u001b[1;34m(self, request, stream, timeout, verify, cert, proxies)\u001b[0m\n\u001b[0;32m    514\u001b[0m                 \u001b[1;32mraise\u001b[0m \u001b[0mSSLError\u001b[0m\u001b[1;33m(\u001b[0m\u001b[0me\u001b[0m\u001b[1;33m,\u001b[0m \u001b[0mrequest\u001b[0m\u001b[1;33m=\u001b[0m\u001b[0mrequest\u001b[0m\u001b[1;33m)\u001b[0m\u001b[1;33m\u001b[0m\u001b[1;33m\u001b[0m\u001b[0m\n\u001b[0;32m    515\u001b[0m \u001b[1;33m\u001b[0m\u001b[0m\n\u001b[1;32m--> 516\u001b[1;33m             \u001b[1;32mraise\u001b[0m \u001b[0mConnectionError\u001b[0m\u001b[1;33m(\u001b[0m\u001b[0me\u001b[0m\u001b[1;33m,\u001b[0m \u001b[0mrequest\u001b[0m\u001b[1;33m=\u001b[0m\u001b[0mrequest\u001b[0m\u001b[1;33m)\u001b[0m\u001b[1;33m\u001b[0m\u001b[1;33m\u001b[0m\u001b[0m\n\u001b[0m\u001b[0;32m    517\u001b[0m \u001b[1;33m\u001b[0m\u001b[0m\n\u001b[0;32m    518\u001b[0m         \u001b[1;32mexcept\u001b[0m \u001b[0mClosedPoolError\u001b[0m \u001b[1;32mas\u001b[0m \u001b[0me\u001b[0m\u001b[1;33m:\u001b[0m\u001b[1;33m\u001b[0m\u001b[1;33m\u001b[0m\u001b[0m\n",
      "\u001b[1;31mTweepError\u001b[0m: Failed to send request: HTTPSConnectionPool(host='api.twitter.com', port=443): Max retries exceeded with url: /1.1/users/show.json?id=Apple (Caused by NewConnectionError('<urllib3.connection.HTTPSConnection object at 0x000001EE423C9630>: Failed to establish a new connection: [Errno 11001] getaddrinfo failed',))"
     ]
    }
   ],
   "source": [
    "#Extract other user timeline\n",
    "user=api.get_user(\"Apple\")\n",
    "user_timeline = user.timeline()"
   ]
  },
  {
   "cell_type": "markdown",
   "metadata": {},
   "source": [
    "## Interacting with Twitts"
   ]
  },
  {
   "cell_type": "markdown",
   "metadata": {},
   "source": [
    "## Follwers, Follwing"
   ]
  },
  {
   "cell_type": "markdown",
   "metadata": {},
   "source": [
    "## Item, paginaion & Cursior"
   ]
  },
  {
   "cell_type": "code",
   "execution_count": null,
   "metadata": {},
   "outputs": [],
   "source": []
  }
 ],
 "metadata": {
  "kernelspec": {
   "display_name": "Python 3",
   "language": "python",
   "name": "python3"
  },
  "language_info": {
   "codemirror_mode": {
    "name": "ipython",
    "version": 3
   },
   "file_extension": ".py",
   "mimetype": "text/x-python",
   "name": "python",
   "nbconvert_exporter": "python",
   "pygments_lexer": "ipython3",
   "version": "3.6.12"
  }
 },
 "nbformat": 4,
 "nbformat_minor": 4
}
